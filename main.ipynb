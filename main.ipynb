{
 "cells": [
  {
   "cell_type": "markdown",
   "metadata": {},
   "source": [
    "# 1. Flight Network Analysis (Q1)"
   ]
  },
  {
   "cell_type": "code",
   "execution_count": 16,
   "metadata": {},
   "outputs": [],
   "source": [
    "import pandas as pd\n",
    "import networkx as nx\n",
    "import matplotlib.pyplot as plt\n",
    "import numpy as np\n",
    "from geopy.geocoders import Nominatim\n",
    "from geopy.exc import GeocoderTimedOut\n",
    "import time"
   ]
  },
  {
   "cell_type": "markdown",
   "metadata": {},
   "source": [
    "Before make the graph we have to find out if the graph is directed or undirected. So we are going to analyze how many routes are reciprocal (have both directions) and calculate the percentage. Let's set the threshold at 70%. So if reciprocity is >= 70% we will treat our graph as undirected. If not, we will treat our graph as directed."
   ]
  },
  {
   "cell_type": "code",
   "execution_count": 2,
   "metadata": {},
   "outputs": [],
   "source": [
    "def check_reciprocity_in_dataset(data):\n",
    "    # Group data to ensure unique routes\n",
    "    unique_routes = data[['Origin_airport', 'Destination_airport']].drop_duplicates()\n",
    "\n",
    "    # Create a set of routes and reverse routes\n",
    "    routes = set(tuple(x) for x in unique_routes.to_numpy())\n",
    "    reverse_routes = set((dest, origin) for origin, dest in routes)\n",
    "\n",
    "    # Count reciprocal routes\n",
    "    reciprocal_routes = routes.intersection(reverse_routes)\n",
    "    reciprocity = len(reciprocal_routes) / len(routes) if len(routes) > 0 else 0\n",
    "\n",
    "    print(f\"Total Routes: {len(routes)}\")\n",
    "    print(f\"Reciprocal Routes: {len(reciprocal_routes)}\")\n",
    "    print(f\"Reciprocity: {reciprocity:.2%}\")"
   ]
  },
  {
   "cell_type": "code",
   "execution_count": 3,
   "metadata": {},
   "outputs": [
    {
     "name": "stdout",
     "output_type": "stream",
     "text": [
      "Total Routes: 36719\n",
      "Reciprocal Routes: 27188\n",
      "Reciprocity: 74.04%\n"
     ]
    }
   ],
   "source": [
    "data = pd.read_csv(r\"C:\\Users\\nefel\\Documents\\GitHub\\ADM_HW05\\Airports2.csv\")\n",
    "check_reciprocity_in_dataset(data)"
   ]
  },
  {
   "cell_type": "markdown",
   "metadata": {},
   "source": [
    "## Missing Values"
   ]
  },
  {
   "cell_type": "code",
   "execution_count": 4,
   "metadata": {},
   "outputs": [
    {
     "name": "stdout",
     "output_type": "stream",
     "text": [
      "Origin_airport               0\n",
      "Destination_airport          0\n",
      "Origin_city                  0\n",
      "Destination_city             0\n",
      "Passengers                   0\n",
      "Seats                        0\n",
      "Flights                      0\n",
      "Distance                     0\n",
      "Fly_date                     0\n",
      "Origin_population            0\n",
      "Destination_population       0\n",
      "Org_airport_lat           6954\n",
      "Org_airport_long          6954\n",
      "Dest_airport_lat          6807\n",
      "Dest_airport_long         6807\n",
      "dtype: int64\n"
     ]
    }
   ],
   "source": [
    "# Checking for missing values\n",
    "missing_values = data.isna().sum()\n",
    "print(missing_values)"
   ]
  },
  {
   "cell_type": "markdown",
   "metadata": {},
   "source": [
    "As we can see there are a lot of missing values when it comes to the coordinates of the airports. So we have to fill them."
   ]
  },
  {
   "cell_type": "code",
   "execution_count": 15,
   "metadata": {},
   "outputs": [
    {
     "name": "stdout",
     "output_type": "stream",
     "text": [
      "Unique airports to process: 727\n"
     ]
    }
   ],
   "source": [
    "unique_airports = pd.concat([data['Origin_airport'], data['Destination_airport']]).unique()\n",
    "print(f\"Unique airports to process: {len(unique_airports)}\")"
   ]
  },
  {
   "cell_type": "markdown",
   "metadata": {},
   "source": [
    "We are going to use the <strong> geopy </strong> library in order to find the coordainates of the airports "
   ]
  },
  {
   "cell_type": "code",
   "execution_count": 18,
   "metadata": {},
   "outputs": [],
   "source": [
    "# Initialize the geolocator\n",
    "geolocator = Nominatim(user_agent=\"flight_network_analysis\", timeout=10)\n",
    "\n",
    "# Define a function to fetch coordinates\n",
    "def fetch_coordinates(airport_code, retries=3):\n",
    "    \"\"\"\n",
    "    Fetches the latitude and longitude for a given airport code.\n",
    "    Retries in case of timeout.\n",
    "    \"\"\"\n",
    "    for attempt in range(retries):\n",
    "        try:\n",
    "            location = geolocator.geocode(f\"{airport_code} airport\")\n",
    "            if location:\n",
    "                return location.latitude, location.longitude\n",
    "        except GeocoderTimedOut:\n",
    "            print(f\"Retrying for {airport_code}... (Attempt {attempt + 1})\")\n",
    "            time.sleep(1)  # Delay before retry\n",
    "    return None, None  # If all retries fail"
   ]
  },
  {
   "cell_type": "code",
   "execution_count": 19,
   "metadata": {},
   "outputs": [],
   "source": [
    "# Create a DataFrame to store airport coordinates\n",
    "airport_coordinates = pd.DataFrame(unique_airports, columns=['Airport'])\n",
    "airport_coordinates['Latitude'] = None\n",
    "airport_coordinates['Longitude'] = None"
   ]
  },
  {
   "cell_type": "code",
   "execution_count": 20,
   "metadata": {},
   "outputs": [],
   "source": [
    "# Fetch coordinates for all unique airports\n",
    "for idx, airport in airport_coordinates.iterrows():\n",
    "    lat, long = fetch_coordinates(airport['Airport'])\n",
    "    airport_coordinates.at[idx, 'Latitude'] = lat\n",
    "    airport_coordinates.at[idx, 'Longitude'] = long"
   ]
  },
  {
   "cell_type": "code",
   "execution_count": 21,
   "metadata": {},
   "outputs": [],
   "source": [
    "# Create mapping dictionaries\n",
    "lat_mapping = dict(zip(airport_coordinates['Airport'], airport_coordinates['Latitude']))\n",
    "long_mapping = dict(zip(airport_coordinates['Airport'], airport_coordinates['Longitude']))"
   ]
  },
  {
   "cell_type": "code",
   "execution_count": 22,
   "metadata": {},
   "outputs": [],
   "source": [
    "# Fill missing values\n",
    "data['Org_airport_lat'] = data['Org_airport_lat'].fillna(data['Origin_airport'].map(lat_mapping))\n",
    "data['Org_airport_long'] = data['Org_airport_long'].fillna(data['Origin_airport'].map(long_mapping))\n",
    "data['Dest_airport_lat'] = data['Dest_airport_lat'].fillna(data['Destination_airport'].map(lat_mapping))\n",
    "data['Dest_airport_long'] = data['Dest_airport_long'].fillna(data['Destination_airport'].map(long_mapping))"
   ]
  },
  {
   "cell_type": "code",
   "execution_count": 23,
   "metadata": {},
   "outputs": [
    {
     "name": "stdout",
     "output_type": "stream",
     "text": [
      "Org_airport_lat      1163\n",
      "Org_airport_long     1163\n",
      "Dest_airport_lat     1147\n",
      "Dest_airport_long    1147\n",
      "dtype: int64\n"
     ]
    }
   ],
   "source": [
    "# Checking for any other missinf values\n",
    "print(data[['Org_airport_lat', 'Org_airport_long', 'Dest_airport_lat', 'Dest_airport_long']].isna().sum())"
   ]
  },
  {
   "cell_type": "markdown",
   "metadata": {},
   "source": [
    "After an other check we can see that the missing values have decreased but we still have some. For these airports we will create a manual dictionary which will have the lat and the long for each airport of the missing values."
   ]
  },
  {
   "cell_type": "code",
   "execution_count": 24,
   "metadata": {},
   "outputs": [
    {
     "name": "stdout",
     "output_type": "stream",
     "text": [
      "Missing Origin Airports: ['DQF' 'KY5' 'HIK' 'ESF' 'VWL' 'XXW' 'FVS' 'HLM' 'JSE' 'TN6' 'AIY' 'JRA'\n",
      " 'JRB' 'TSS' 'WQM' 'KY1' 'IN1' 'TN3' 'OH5' 'KY3' 'OH3' 'VWT' 'WV1' 'OH2'\n",
      " 'VWH' 'MI2' 'VWD' 'NY3' 'LSD' 'DQU' 'LWF' 'JZU' 'STF' 'TX6' 'OH1' 'DQC'\n",
      " 'CGX']\n",
      "Missing Destination Airports: ['IN1' 'TX6' 'JSE' 'AWX' 'VWL' 'CGX' 'VWD' 'HLM' 'MI2' 'LJY' 'VWH' 'NY3'\n",
      " 'DQF' 'FVS' 'KY1' 'HIK' 'TSS' 'JRA' 'JRB' 'UXJ' 'XWL' 'TN6' 'ZXX' 'DQU'\n",
      " 'XXW' 'TN3' 'LSD' 'NZJ' 'ESF' 'WV1' 'OH5' 'STF' 'OH3' 'WQM' 'LWF' 'KY5'\n",
      " 'AIY' 'JCC' 'KY3' 'OH1']\n"
     ]
    }
   ],
   "source": [
    "# Identify missing origin airport codes\n",
    "missing_origin_airports = data.loc[data['Org_airport_lat'].isna(), 'Origin_airport'].unique()\n",
    "print(f\"Missing Origin Airports: {missing_origin_airports}\")\n",
    "\n",
    "# Identify missing destination airport codes\n",
    "missing_dest_airports = data.loc[data['Dest_airport_lat'].isna(), 'Destination_airport'].unique()\n",
    "print(f\"Missing Destination Airports: {missing_dest_airports}\")"
   ]
  },
  {
   "cell_type": "code",
   "execution_count": 29,
   "metadata": {},
   "outputs": [],
   "source": [
    "manual_airport_coordinates = {\n",
    "    'DQF' : (32.897480, -97.040443),  \n",
    "    'KY5' : (37.5355556, -84.4072222),\n",
    "    'HIK' : (21.32583333, -157.92166666),\n",
    "    'ESF' : (31.395, -92.29583),\n",
    "    'VWL' : (47.37611111, -94.79805555),\n",
    "    'XXW' : (30.18055555, -82.57972222),\n",
    "    'FVS' : (43.83388888,  -111.805),\n",
    "    'HLM' : (42.79583, -86.16194),\n",
    "    'JSE' : (58.30166666, -134.42444444),\n",
    "    'TN6' : (35.99861111, -89.40611111),\n",
    "    'AIY' : (39.3577777778, -74.46),\n",
    "    'JRA' : (40.754626, -74.006808),\n",
    "    'JRB' : (40.701116, -74.008801),\n",
    "    'TSS' : (40.7425, -73.97194),\n",
    "    'WQM' : (30.2125, -93.14333333),\n",
    "    'KY1' : (37.56861111, -84.77222222),\n",
    "    'IN1' : (41.30694444, -85.06416666),\n",
    "    'TN3' : (35.50694444, -86.80361111),\n",
    "    'OH5' : (39.24666666, -84.38888888),\n",
    "    'KY3' : (38.058056, -83.979444),\n",
    "    'OH3' : (39.44027777, -83.02305555),\n",
    "    'VWT' : (32.11166666, -84.18833333),\n",
    "    'WV1' : (38.29444444, -81.56555555),\n",
    "    'OH2' : (40.3722222222, -83.8188888889),\n",
    "    'VWH' : (31.9208333333, -102.3894444444),\n",
    "    'MI2' : (42.74305555, -86.105),\n",
    "    'VWD' : (36.31888888, -119.62972222),\n",
    "    'NY3' : (42.45, -75.01638888),\n",
    "    'LSD' : (38.09111111, -84.31666666),\n",
    "    'DQU' : (55.77888888, -131.60138888),\n",
    "    'LWF' : (35.23416666, -87.25805555),\n",
    "    'JZU' : (42.89138888, -73.24638888),\n",
    "    'STF' : (33.433056, -88.848611),\n",
    "    'TX6' : (35.22202, -101.831642),\n",
    "    'OH1' : (39.57027777, -83.42055555),\n",
    "    'DQC' : (27.81277777, -80.49555555),\n",
    "    'CGX' : (41.86, -87.6086111111),\n",
    "    'AWX' : (32.32944444, -102.53027777),\n",
    "    'UXJ' : (37.63138888, -84.33249999),\n",
    "    'XWL' : (43.2125, -112.34583333),\n",
    "    'ZXX' : (46.21833333, -119.20944444),\n",
    "    'NZJ' : (33.67611, -117.73111),\n",
    "    'JCC' : (37.8, -122.46666666),\n",
    "    'LJY' : (37.64444444, -92.6525),\n",
    "}"
   ]
  },
  {
   "cell_type": "code",
   "execution_count": 30,
   "metadata": {},
   "outputs": [],
   "source": [
    "# Fill missing origin coordinates using the manual dictionary \n",
    "data['Org_airport_lat'] = data['Org_airport_lat'].fillna(\n",
    "    data['Origin_airport'].map(lambda x: manual_airport_coordinates.get(x, (None, None))[0])\n",
    ")\n",
    "data['Org_airport_long'] = data['Org_airport_long'].fillna(\n",
    "    data['Origin_airport'].map(lambda x: manual_airport_coordinates.get(x, (None, None))[1])\n",
    ")\n",
    "\n",
    "# Fill missing destination coordinates using the manual dictionary \n",
    "data['Dest_airport_lat'] = data['Dest_airport_lat'].fillna(\n",
    "    data['Destination_airport'].map(lambda x: manual_airport_coordinates.get(x, (None, None))[0])\n",
    ")\n",
    "data['Dest_airport_long'] = data['Dest_airport_long'].fillna(\n",
    "    data['Destination_airport'].map(lambda x: manual_airport_coordinates.get(x, (None, None))[1])\n",
    ")"
   ]
  },
  {
   "cell_type": "markdown",
   "metadata": {},
   "source": [
    "Doing the last check after applying our manual dictionary."
   ]
  },
  {
   "cell_type": "code",
   "execution_count": 31,
   "metadata": {},
   "outputs": [
    {
     "name": "stdout",
     "output_type": "stream",
     "text": [
      "Org_airport_lat      0\n",
      "Org_airport_long     0\n",
      "Dest_airport_lat     0\n",
      "Dest_airport_long    0\n",
      "dtype: int64\n"
     ]
    }
   ],
   "source": [
    "# Checking for any other missinf values\n",
    "print(data[['Org_airport_lat', 'Org_airport_long', 'Dest_airport_lat', 'Dest_airport_long']].isna().sum())"
   ]
  },
  {
   "cell_type": "markdown",
   "metadata": {},
   "source": [
    "Now we are ready to make our graph."
   ]
  },
  {
   "cell_type": "markdown",
   "metadata": {},
   "source": [
    "According to the analysis we did at the beginning our graph will be a undirected one."
   ]
  },
  {
   "cell_type": "code",
   "execution_count": 33,
   "metadata": {},
   "outputs": [],
   "source": [
    " # Create an undirected graph\n",
    "flight_network = nx.Graph()\n",
    "    \n",
    "    # Add edges from the dataset\n",
    "for _, row in data.iterrows():\n",
    "    origin = row['Origin_airport']\n",
    "    destination = row['Destination_airport']\n",
    "    flight_network.add_edge(origin, destination)"
   ]
  },
  {
   "cell_type": "markdown",
   "metadata": {},
   "source": [
    "## 1.2 Implement a function <strong> analyze_graph_features(flight_network) </strong>"
   ]
  },
  {
   "cell_type": "code",
   "execution_count": 34,
   "metadata": {},
   "outputs": [],
   "source": [
    "def analyze_graph_features(flight_network):\n",
    "    # 1. Count the number of airports (nodes) and flights (edges)\n",
    "    num_nodes = flight_network.number_of_nodes()\n",
    "    num_edges = flight_network.number_of_edges()\n",
    "\n",
    "    print(f\"Number of airports (nodes): {num_nodes}\")\n",
    "    print(f\"Number of flights (edges): {num_edges}\")\n",
    "\n",
    "    # 2. Compute the density of the graph\n",
    "    density = (2 * num_edges) / (num_nodes * (num_nodes - 1)) if num_nodes > 1 else 0\n",
    "    print(f\"Graph density: {density:.4f}\")\n",
    "\n",
    "    # 3. Compute degree for each airport\n",
    "    degrees = dict(flight_network.degree())  # Dictionary {node: degree}\n",
    "\n",
    "    # Plot histogram for degree distribution\n",
    "    plt.figure(figsize=(8, 6))\n",
    "    plt.hist(degrees.values(), bins=20, color='r', edgecolor='black')\n",
    "    plt.title(\"Degree Distribution\")\n",
    "    plt.xlabel(\"Degree\")\n",
    "    plt.ylabel(\"Frequency\")\n",
    "    plt.show()\n",
    "\n",
    "    # 4. Identify hubs (airports with degree higher than the 90th percentile)\n",
    "    degree_values = list(degrees.values())\n",
    "    degree_90th_percentile = np.percentile(degree_values, 90)\n",
    "    hubs = [node for node, degree in degrees.items() if degree > degree_90th_percentile]\n",
    "\n",
    "    print(f\"Hubs (airports with degree > 90th percentile): {hubs}\")\n",
    "\n",
    "    # 5. Determine if the graph is sparse or dense\n",
    "    if density < 0.5:\n",
    "        print(\"The graph is sparse.\")\n",
    "    else:\n",
    "        print(\"The graph is dense.\")\n"
   ]
  },
  {
   "cell_type": "code",
   "execution_count": 35,
   "metadata": {},
   "outputs": [
    {
     "name": "stdout",
     "output_type": "stream",
     "text": [
      "Number of airports (nodes): 727\n",
      "Number of flights (edges): 23260\n",
      "Graph density: 0.0881\n"
     ]
    },
    {
     "data": {
      "image/png": "[encoded data removed]",
      "text/plain": [
       "<Figure size 800x600 with 1 Axes>"
      ]
     },
     "metadata": {},
     "output_type": "display_data"
    },
    {
     "name": "stdout",
     "output_type": "stream",
     "text": [
      "Hubs (airports with degree > 90th percentile): ['SEA', 'PDX', 'SFO', 'LAX', 'FLL', 'PHX', 'TUS', 'DFW', 'SLC', 'ABQ', 'LAS', 'ICT', 'OKC', 'SAN', 'OAK', 'IAH', 'ELP', 'TUL', 'OMA', 'AUS', 'COS', 'MSN', 'RFD', 'MKE', 'DSM', 'LIT', 'SHV', 'MCI', 'SAT', 'MSP', 'ORD', 'STL', 'BNA', 'MEM', 'IND', 'LRD', 'CLE', 'DTW', 'DAY', 'CVG', 'CMH', 'FWA', 'HOU', 'TOL', 'PIT', 'BOS', 'ATL', 'MDW', 'PHL', 'GSO', 'BUF', 'EWR', 'CLT', 'JFK', 'GRR', 'YIP', 'LGA', 'LEX', 'BHM', 'MCO', 'IAD', 'MSY', 'RDU', 'GSP', 'BDL', 'CAE', 'BWI', 'TYS', 'HSV', 'MIA', 'TPA', 'DAL', 'JAX']\n",
      "The graph is sparse.\n"
     ]
    }
   ],
   "source": [
    "analyze_graph_features(flight_network)"
   ]
  },
  {
   "cell_type": "markdown",
   "metadata": {},
   "source": [
    "## 1.2 Write a function <strong> summarize_graph_features(flight_network) </strong>"
   ]
  },
  {
   "cell_type": "code",
   "execution_count": 36,
   "metadata": {},
   "outputs": [],
   "source": [
    "def summarize_graph_features(flight_network):\n",
    "    # Summary dictionary to collect data\n",
    "    summary = {}\n",
    "\n",
    "    # 1. Number of nodes and edges\n",
    "    num_nodes = flight_network.number_of_nodes()\n",
    "    num_edges = flight_network.number_of_edges()\n",
    "    summary['Number of nodes'] = num_nodes\n",
    "    summary['Number of edges'] = num_edges\n",
    "\n",
    "    # 2. Graph density\n",
    "    density = (2 * num_edges) / (num_nodes * (num_nodes - 1)) if num_nodes > 1 else 0\n",
    "    summary['Graph density'] = density\n",
    "\n",
    "    # 3. Degree distribution\n",
    "    degrees = dict(flight_network.degree())  # Degree distribution\n",
    "\n",
    "    # Plot histogram for degree distribution\n",
    "    plt.figure(figsize=(8, 6))\n",
    "    plt.hist(degrees.values(), bins=20, color='skyblue', edgecolor='black')\n",
    "    plt.title(\"Degree Distribution\")\n",
    "    plt.xlabel(\"Degree\")\n",
    "    plt.ylabel(\"Frequency\")\n",
    "    plt.show()\n",
    "\n",
    "    # 4. Identify hubs (airports with degree higher than the 90th percentile)\n",
    "    degree_values = list(degrees.values())\n",
    "    degree_90th_percentile = np.percentile(degree_values, 90)\n",
    "    hubs = [(node, degree) for node, degree in degrees.items() if degree > degree_90th_percentile]\n",
    "    hubs_df = pd.DataFrame(hubs, columns=['Airport', 'Degree']).sort_values(by='Degree', ascending=False)\n",
    "\n",
    "    summary['Hubs'] = hubs_df\n",
    "\n",
    "    # Print summary report\n",
    "    print(\"\\n--- Graph Summary Report ---\")\n",
    "    for key, value in summary.items():\n",
    "        if key == 'Hubs':\n",
    "            print(f\"\\n{key}:\")\n",
    "            print(value.to_string(index=False))\n",
    "        else:\n",
    "            print(f\"{key}: {value}\")\n",
    "\n",
    "    return summary\n"
   ]
  },
  {
   "cell_type": "code",
   "execution_count": 37,
   "metadata": {},
   "outputs": [
    {
     "data": {
      "image/png": "[encoded data removed]",
      "text/plain": [
       "<Figure size 800x600 with 1 Axes>"
      ]
     },
     "metadata": {},
     "output_type": "display_data"
    },
    {
     "name": "stdout",
     "output_type": "stream",
     "text": [
      "\n",
      "--- Graph Summary Report ---\n",
      "Number of nodes: 727\n",
      "Number of edges: 23260\n",
      "Graph density: 0.08813911277335061\n",
      "\n",
      "Hubs:\n",
      "Airport  Degree\n",
      "    YIP     378\n",
      "    MSP     323\n",
      "    MCI     319\n",
      "    MEM     317\n",
      "    ATL     308\n",
      "    STL     304\n",
      "    MIA     299\n",
      "    ORD     299\n",
      "    DFW     297\n",
      "    IND     296\n",
      "    OKC     290\n",
      "    PHX     281\n",
      "    SHV     280\n",
      "    IAD     276\n",
      "    DTW     272\n",
      "    SLC     266\n",
      "    LAS     266\n",
      "    MKE     264\n",
      "    IAH     264\n",
      "    BWI     263\n",
      "    LAX     262\n",
      "    CLE     260\n",
      "    ELP     259\n",
      "    JFK     255\n",
      "    TUS     255\n",
      "    LIT     254\n",
      "    EWR     252\n",
      "    BNA     252\n",
      "    CVG     252\n",
      "    MDW     251\n",
      "    PHL     250\n",
      "    PIT     248\n",
      "    RFD     247\n",
      "    CLT     244\n",
      "    LRD     244\n",
      "    BOS     244\n",
      "    SAT     243\n",
      "    ICT     243\n",
      "    MCO     241\n",
      "    DAY     240\n",
      "    RDU     239\n",
      "    CMH     238\n",
      "    SEA     235\n",
      "    DAL     234\n",
      "    MSY     234\n",
      "    TUL     233\n",
      "    SFO     230\n",
      "    TYS     230\n",
      "    OMA     229\n",
      "    FLL     226\n",
      "    BUF     225\n",
      "    ABQ     223\n",
      "    AUS     220\n",
      "    OAK     219\n",
      "    TOL     215\n",
      "    DSM     214\n",
      "    BHM     213\n",
      "    PDX     213\n",
      "    COS     212\n",
      "    CAE     212\n",
      "    LEX     209\n",
      "    SAN     209\n",
      "    GSP     208\n",
      "    TPA     205\n",
      "    FWA     205\n",
      "    BDL     203\n",
      "    HOU     200\n",
      "    GRR     200\n",
      "    MSN     200\n",
      "    LGA     199\n",
      "    GSO     198\n",
      "    JAX     198\n",
      "    HSV     197\n"
     ]
    },
    {
     "data": {
      "text/plain": [
       "{'Number of nodes': 727,\n",
       " 'Number of edges': 23260,\n",
       " 'Graph density': 0.08813911277335061,\n",
       " 'Hubs':    Airport  Degree\n",
       " 55     YIP     378\n",
       " 29     MSP     323\n",
       " 27     MCI     319\n",
       " 33     MEM     317\n",
       " 46     ATL     308\n",
       " ..     ...     ...\n",
       " 21     MSN     200\n",
       " 56     LGA     199\n",
       " 49     GSO     198\n",
       " 72     JAX     198\n",
       " 68     HSV     197\n",
       " \n",
       " [73 rows x 2 columns]}"
      ]
     },
     "execution_count": 37,
     "metadata": {},
     "output_type": "execute_result"
    }
   ],
   "source": [
    "summarize_graph_features(flight_network)"
   ]
  },
  {
   "cell_type": "markdown",
   "metadata": {},
   "source": [
    "## 1.3 Deeper analysis of the dataset"
   ]
  },
  {
   "cell_type": "markdown",
   "metadata": {},
   "source": [
    "Compute total passenger flow between origin and destination cities."
   ]
  },
  {
   "cell_type": "code",
   "execution_count": 38,
   "metadata": {},
   "outputs": [],
   "source": [
    "def compute_passenger_flow(data):\n",
    "    # Compute total passengers for each route\n",
    "    passenger_flow = data.groupby(['Origin_airport', 'Destination_airport'])['Passengers'].sum().reset_index()\n",
    "    passenger_flow = passenger_flow.rename(columns={'Passengers': 'Total_Passengers'})\n",
    "    return passenger_flow"
   ]
  },
  {
   "cell_type": "code",
   "execution_count": 39,
   "metadata": {},
   "outputs": [],
   "source": [
    "def visualize_busiest_routes(passenger_flow):\n",
    "    # Identify top 10 busiest routes\n",
    "    busiest_routes = passenger_flow.sort_values(by='Total_Passengers', ascending=False).head(10)\n",
    "\n",
    "    # Create a bar chart\n",
    "    plt.figure(figsize=(12, 6))\n",
    "    plt.barh(\n",
    "        busiest_routes.apply(lambda x: f\"{x['Origin_airport']} → {x['Destination_airport']}\", axis=1),\n",
    "        busiest_routes['Total_Passengers'],\n",
    "        color='skyblue'\n",
    "    )\n",
    "    plt.xlabel('Total Passengers')\n",
    "    plt.ylabel('Route')\n",
    "    plt.title('Top 10 Busiest Routes by Passenger Traffic')\n",
    "    plt.gca().invert_yaxis()\n",
    "    plt.show()\n",
    "\n",
    "    return busiest_routes"
   ]
  },
  {
   "cell_type": "code",
   "execution_count": 40,
   "metadata": {},
   "outputs": [],
   "source": [
    "def analyze_route_utilization(data):\n",
    "    # Compute average passengers per flight\n",
    "    data['Avg_Passengers_Per_Flight'] = data['Passengers'] / data['Flights']\n",
    "\n",
    "    # Compute seat utilization for each route\n",
    "    data['Seat_Utilization'] = (data['Passengers'] / data['Seats']) * 100\n",
    "\n",
    "    # Classify routes as under-utilized or over-utilized\n",
    "    data['Utilization_Class'] = data['Seat_Utilization'].apply(\n",
    "        lambda x: 'Under-utilized' if x < 70 else 'Over-utilized'\n",
    "    )\n",
    "\n",
    "    return data[['Origin_airport', 'Destination_airport', 'Avg_Passengers_Per_Flight', 'Seat_Utilization', 'Utilization_Class']]"
   ]
  },
  {
   "cell_type": "code",
   "execution_count": 50,
   "metadata": {},
   "outputs": [],
   "source": [
    "import folium\n",
    "\n",
    "def create_flight_network_map(data):\n",
    "    \"\"\"\n",
    "    Creates an interactive map visualizing the flight network.\n",
    "    \n",
    "    Parameters:\n",
    "        data (pd.DataFrame): DataFrame with columns:\n",
    "            'Org_airport_lat', 'Org_airport_long', 'Dest_airport_lat', 'Dest_airport_long'.\n",
    "    \n",
    "    Returns:\n",
    "        folium.Map: Interactive map showing flight network.\n",
    "    \"\"\"\n",
    "    # Initialize the map at a central point\n",
    "    flight_map = folium.Map(location=[37.0902, -95.7129], zoom_start=4)  # Center of the US\n",
    "\n",
    "    # Iterate through the dataset and plot each flight route\n",
    "    for _, row in data.iterrows():\n",
    "        # Extract origin and destination coordinates\n",
    "        origin_coords = (row['Org_airport_lat'], row['Org_airport_long'])\n",
    "        dest_coords = (row['Dest_airport_lat'], row['Dest_airport_long'])\n",
    "        \n",
    "        # Add a line for the flight route\n",
    "        folium.PolyLine(\n",
    "            locations=[origin_coords, dest_coords],\n",
    "            color='blue',\n",
    "            weight=2,\n",
    "            opacity=0.6\n",
    "        ).add_to(flight_map)\n",
    "    \n",
    "    # Add markers for origin and destination airports\n",
    "        folium.Marker(\n",
    "            location=origin_coords,\n",
    "            popup=f\"Origin: {row['Origin_airport']}\",\n",
    "            icon=folium.Icon(color='green', icon='plane')\n",
    "        ).add_to(flight_map)\n",
    "\n",
    "        folium.Marker(\n",
    "            location=dest_coords,\n",
    "            popup=f\"Destination: {row['Destination_airport']}\",\n",
    "            icon=folium.Icon(color='red', icon='plane')\n",
    "        ).add_to(flight_map)\n",
    "    \n",
    "    return flight_map\n"
   ]
  },
  {
   "cell_type": "code",
   "execution_count": 48,
   "metadata": {},
   "outputs": [
    {
     "data": {
      "text/html": [
       "<div>\n",
       "<style scoped>\n",
       "    .dataframe tbody tr th:only-of-type {\n",
       "        vertical-align: middle;\n",
       "    }\n",
       "\n",
       "    .dataframe tbody tr th {\n",
       "        vertical-align: top;\n",
       "    }\n",
       "\n",
       "    .dataframe thead th {\n",
       "        text-align: right;\n",
       "    }\n",
       "</style>\n",
       "<table border=\"1\" class=\"dataframe\">\n",
       "  <thead>\n",
       "    <tr style=\"text-align: right;\">\n",
       "      <th></th>\n",
       "      <th>Origin_airport</th>\n",
       "      <th>Destination_airport</th>\n",
       "      <th>Total_Passengers</th>\n",
       "    </tr>\n",
       "  </thead>\n",
       "  <tbody>\n",
       "    <tr>\n",
       "      <th>0</th>\n",
       "      <td>1B1</td>\n",
       "      <td>BDL</td>\n",
       "      <td>1</td>\n",
       "    </tr>\n",
       "    <tr>\n",
       "      <th>1</th>\n",
       "      <td>ABE</td>\n",
       "      <td>ABE</td>\n",
       "      <td>2524</td>\n",
       "    </tr>\n",
       "    <tr>\n",
       "      <th>2</th>\n",
       "      <td>ABE</td>\n",
       "      <td>ACT</td>\n",
       "      <td>0</td>\n",
       "    </tr>\n",
       "    <tr>\n",
       "      <th>3</th>\n",
       "      <td>ABE</td>\n",
       "      <td>ACY</td>\n",
       "      <td>73</td>\n",
       "    </tr>\n",
       "    <tr>\n",
       "      <th>4</th>\n",
       "      <td>ABE</td>\n",
       "      <td>ADS</td>\n",
       "      <td>0</td>\n",
       "    </tr>\n",
       "    <tr>\n",
       "      <th>...</th>\n",
       "      <td>...</td>\n",
       "      <td>...</td>\n",
       "      <td>...</td>\n",
       "    </tr>\n",
       "    <tr>\n",
       "      <th>36714</th>\n",
       "      <td>YUM</td>\n",
       "      <td>YUM</td>\n",
       "      <td>0</td>\n",
       "    </tr>\n",
       "    <tr>\n",
       "      <th>36715</th>\n",
       "      <td>ZZV</td>\n",
       "      <td>MCI</td>\n",
       "      <td>0</td>\n",
       "    </tr>\n",
       "    <tr>\n",
       "      <th>36716</th>\n",
       "      <td>ZZV</td>\n",
       "      <td>PDK</td>\n",
       "      <td>0</td>\n",
       "    </tr>\n",
       "    <tr>\n",
       "      <th>36717</th>\n",
       "      <td>ZZV</td>\n",
       "      <td>SHV</td>\n",
       "      <td>0</td>\n",
       "    </tr>\n",
       "    <tr>\n",
       "      <th>36718</th>\n",
       "      <td>ZZV</td>\n",
       "      <td>YIP</td>\n",
       "      <td>0</td>\n",
       "    </tr>\n",
       "  </tbody>\n",
       "</table>\n",
       "<p>36719 rows × 3 columns</p>\n",
       "</div>"
      ],
      "text/plain": [
       "      Origin_airport Destination_airport  Total_Passengers\n",
       "0                1B1                 BDL                 1\n",
       "1                ABE                 ABE              2524\n",
       "2                ABE                 ACT                 0\n",
       "3                ABE                 ACY                73\n",
       "4                ABE                 ADS                 0\n",
       "...              ...                 ...               ...\n",
       "36714            YUM                 YUM                 0\n",
       "36715            ZZV                 MCI                 0\n",
       "36716            ZZV                 PDK                 0\n",
       "36717            ZZV                 SHV                 0\n",
       "36718            ZZV                 YIP                 0\n",
       "\n",
       "[36719 rows x 3 columns]"
      ]
     },
     "execution_count": 48,
     "metadata": {},
     "output_type": "execute_result"
    }
   ],
   "source": [
    "# Compute passenger flow\n",
    "passenger_flow = compute_passenger_flow(data)\n",
    "passenger_flow"
   ]
  },
  {
   "cell_type": "code",
   "execution_count": 43,
   "metadata": {},
   "outputs": [
    {
     "data": {
      "image/png": "[encoded data removed]",
      "text/plain": [
       "<Figure size 1200x600 with 1 Axes>"
      ]
     },
     "metadata": {},
     "output_type": "display_data"
    }
   ],
   "source": [
    "# Visualize busiest routes\n",
    "busiest_routes = visualize_busiest_routes(passenger_flow)"
   ]
  },
  {
   "cell_type": "code",
   "execution_count": 46,
   "metadata": {},
   "outputs": [
    {
     "data": {
      "text/html": [
       "<div>\n",
       "<style scoped>\n",
       "    .dataframe tbody tr th:only-of-type {\n",
       "        vertical-align: middle;\n",
       "    }\n",
       "\n",
       "    .dataframe tbody tr th {\n",
       "        vertical-align: top;\n",
       "    }\n",
       "\n",
       "    .dataframe thead th {\n",
       "        text-align: right;\n",
       "    }\n",
       "</style>\n",
       "<table border=\"1\" class=\"dataframe\">\n",
       "  <thead>\n",
       "    <tr style=\"text-align: right;\">\n",
       "      <th></th>\n",
       "      <th>Origin_airport</th>\n",
       "      <th>Destination_airport</th>\n",
       "      <th>Avg_Passengers_Per_Flight</th>\n",
       "      <th>Seat_Utilization</th>\n",
       "      <th>Utilization_Class</th>\n",
       "    </tr>\n",
       "  </thead>\n",
       "  <tbody>\n",
       "    <tr>\n",
       "      <th>0</th>\n",
       "      <td>MHK</td>\n",
       "      <td>AMW</td>\n",
       "      <td>21.000000</td>\n",
       "      <td>70.000000</td>\n",
       "      <td>Over-utilized</td>\n",
       "    </tr>\n",
       "    <tr>\n",
       "      <th>1</th>\n",
       "      <td>EUG</td>\n",
       "      <td>RDM</td>\n",
       "      <td>1.863636</td>\n",
       "      <td>10.353535</td>\n",
       "      <td>Under-utilized</td>\n",
       "    </tr>\n",
       "    <tr>\n",
       "      <th>2</th>\n",
       "      <td>EUG</td>\n",
       "      <td>RDM</td>\n",
       "      <td>4.631579</td>\n",
       "      <td>25.730994</td>\n",
       "      <td>Under-utilized</td>\n",
       "    </tr>\n",
       "    <tr>\n",
       "      <th>3</th>\n",
       "      <td>EUG</td>\n",
       "      <td>RDM</td>\n",
       "      <td>2.750000</td>\n",
       "      <td>15.277778</td>\n",
       "      <td>Under-utilized</td>\n",
       "    </tr>\n",
       "    <tr>\n",
       "      <th>4</th>\n",
       "      <td>MFR</td>\n",
       "      <td>RDM</td>\n",
       "      <td>0.000000</td>\n",
       "      <td>0.000000</td>\n",
       "      <td>Under-utilized</td>\n",
       "    </tr>\n",
       "    <tr>\n",
       "      <th>...</th>\n",
       "      <td>...</td>\n",
       "      <td>...</td>\n",
       "      <td>...</td>\n",
       "      <td>...</td>\n",
       "      <td>...</td>\n",
       "    </tr>\n",
       "    <tr>\n",
       "      <th>3606798</th>\n",
       "      <td>STL</td>\n",
       "      <td>TBN</td>\n",
       "      <td>5.509804</td>\n",
       "      <td>28.998968</td>\n",
       "      <td>Under-utilized</td>\n",
       "    </tr>\n",
       "    <tr>\n",
       "      <th>3606799</th>\n",
       "      <td>STL</td>\n",
       "      <td>TBN</td>\n",
       "      <td>4.537037</td>\n",
       "      <td>23.879142</td>\n",
       "      <td>Under-utilized</td>\n",
       "    </tr>\n",
       "    <tr>\n",
       "      <th>3606800</th>\n",
       "      <td>STL</td>\n",
       "      <td>TBN</td>\n",
       "      <td>5.417910</td>\n",
       "      <td>28.515318</td>\n",
       "      <td>Under-utilized</td>\n",
       "    </tr>\n",
       "    <tr>\n",
       "      <th>3606801</th>\n",
       "      <td>CGI</td>\n",
       "      <td>TBN</td>\n",
       "      <td>2.000000</td>\n",
       "      <td>10.526316</td>\n",
       "      <td>Under-utilized</td>\n",
       "    </tr>\n",
       "    <tr>\n",
       "      <th>3606802</th>\n",
       "      <td>FWA</td>\n",
       "      <td>OH1</td>\n",
       "      <td>0.000000</td>\n",
       "      <td>NaN</td>\n",
       "      <td>Over-utilized</td>\n",
       "    </tr>\n",
       "  </tbody>\n",
       "</table>\n",
       "<p>3606803 rows × 5 columns</p>\n",
       "</div>"
      ],
      "text/plain": [
       "        Origin_airport Destination_airport  Avg_Passengers_Per_Flight  \\\n",
       "0                  MHK                 AMW                  21.000000   \n",
       "1                  EUG                 RDM                   1.863636   \n",
       "2                  EUG                 RDM                   4.631579   \n",
       "3                  EUG                 RDM                   2.750000   \n",
       "4                  MFR                 RDM                   0.000000   \n",
       "...                ...                 ...                        ...   \n",
       "3606798            STL                 TBN                   5.509804   \n",
       "3606799            STL                 TBN                   4.537037   \n",
       "3606800            STL                 TBN                   5.417910   \n",
       "3606801            CGI                 TBN                   2.000000   \n",
       "3606802            FWA                 OH1                   0.000000   \n",
       "\n",
       "         Seat_Utilization Utilization_Class  \n",
       "0               70.000000     Over-utilized  \n",
       "1               10.353535    Under-utilized  \n",
       "2               25.730994    Under-utilized  \n",
       "3               15.277778    Under-utilized  \n",
       "4                0.000000    Under-utilized  \n",
       "...                   ...               ...  \n",
       "3606798         28.998968    Under-utilized  \n",
       "3606799         23.879142    Under-utilized  \n",
       "3606800         28.515318    Under-utilized  \n",
       "3606801         10.526316    Under-utilized  \n",
       "3606802               NaN     Over-utilized  \n",
       "\n",
       "[3606803 rows x 5 columns]"
      ]
     },
     "execution_count": 46,
     "metadata": {},
     "output_type": "execute_result"
    }
   ],
   "source": [
    "# Analyze route utilization\n",
    "utilization_analysis = analyze_route_utilization(data)\n",
    "utilization_analysis"
   ]
  }
 ],
 "metadata": {
  "kernelspec": {
   "display_name": "Python 3",
   "language": "python",
   "name": "python3"
  },
  "language_info": {
   "codemirror_mode": {
    "name": "ipython",
    "version": 3
   },
   "file_extension": ".py",
   "mimetype": "text/x-python",
   "name": "python",
   "nbconvert_exporter": "python",
   "pygments_lexer": "ipython3",
   "version": "3.12.7"
  }
 },
 "nbformat": 4,
 "nbformat_minor": 2
}
