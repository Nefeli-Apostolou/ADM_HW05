{
 "cells": [
  {
   "cell_type": "markdown",
   "metadata": {},
   "source": [
    "# 1. Flight Network Analysis (Q1)"
   ]
  },
  {
   "cell_type": "code",
   "execution_count": 15,
   "metadata": {},
   "outputs": [],
   "source": [
    "import pandas as pd\n",
    "import networkx as nx\n",
    "import matplotlib.pyplot as plt\n",
    "import numpy as np"
   ]
  },
  {
   "cell_type": "markdown",
   "metadata": {},
   "source": [
    "Before make the graph we have to find out if the graph is directed or undirected. So we are going to analyze how many routes are reciprocal (have both directions) and calculate the percentage. Let's set the threshold at 70%. So if reciprocity is >= 70% we will treat our graph as undirected. If not, we will treat our graph as directed."
   ]
  },
  {
   "cell_type": "code",
   "execution_count": 9,
   "metadata": {},
   "outputs": [],
   "source": [
    "def check_reciprocity_in_dataset(data):\n",
    "    # Group data to ensure unique routes\n",
    "    unique_routes = data[['Origin_airport', 'Destination_airport']].drop_duplicates()\n",
    "\n",
    "    # Create a set of routes and reverse routes\n",
    "    routes = set(tuple(x) for x in unique_routes.to_numpy())\n",
    "    reverse_routes = set((dest, origin) for origin, dest in routes)\n",
    "\n",
    "    # Count reciprocal routes\n",
    "    reciprocal_routes = routes.intersection(reverse_routes)\n",
    "    reciprocity = len(reciprocal_routes) / len(routes) if len(routes) > 0 else 0\n",
    "\n",
    "    print(f\"Total Routes: {len(routes)}\")\n",
    "    print(f\"Reciprocal Routes: {len(reciprocal_routes)}\")\n",
    "    print(f\"Reciprocity: {reciprocity:.2%}\")"
   ]
  },
  {
   "cell_type": "code",
   "execution_count": 10,
   "metadata": {},
   "outputs": [
    {
     "name": "stdout",
     "output_type": "stream",
     "text": [
      "Total Routes: 36719\n",
      "Reciprocal Routes: 27188\n",
      "Reciprocity: 74.04%\n"
     ]
    }
   ],
   "source": [
    "data = pd.read_csv(r\"C:\\Users\\nefel\\Documents\\GitHub\\ADM_HW05\\Airports2.csv\")\n",
    "check_reciprocity_in_dataset(data)"
   ]
  },
  {
   "cell_type": "markdown",
   "metadata": {},
   "source": [
    "According to the analysis out graph will be a undirected one."
   ]
  },
  {
   "cell_type": "code",
   "execution_count": 11,
   "metadata": {},
   "outputs": [],
   "source": [
    " # Create an undirected graph\n",
    "flight_network = nx.Graph()\n",
    "    \n",
    "    # Add edges from the dataset\n",
    "for _, row in data.iterrows():\n",
    "    origin = row['Origin_airport']\n",
    "    destination = row['Destination_airport']\n",
    "    flight_network.add_edge(origin, destination)"
   ]
  },
  {
   "cell_type": "markdown",
   "metadata": {},
   "source": [
    "## 1.2 Implement a function <strong> analyze_graph_features(flight_network) </strong>"
   ]
  },
  {
   "cell_type": "code",
   "execution_count": 18,
   "metadata": {},
   "outputs": [],
   "source": [
    "def analyze_graph_features(flight_network):\n",
    "    # 1. Count the number of airports (nodes) and flights (edges)\n",
    "    num_nodes = flight_network.number_of_nodes()\n",
    "    num_edges = flight_network.number_of_edges()\n",
    "\n",
    "    print(f\"Number of airports (nodes): {num_nodes}\")\n",
    "    print(f\"Number of flights (edges): {num_edges}\")\n",
    "\n",
    "    # 2. Compute the density of the graph\n",
    "    density = (2 * num_edges) / (num_nodes * (num_nodes - 1)) if num_nodes > 1 else 0\n",
    "    print(f\"Graph density: {density:.4f}\")\n",
    "\n",
    "    # 3. Compute degree for each airport\n",
    "    degrees = dict(flight_network.degree())  # Dictionary {node: degree}\n",
    "\n",
    "    # Plot histogram for degree distribution\n",
    "    plt.figure(figsize=(8, 6))\n",
    "    plt.hist(degrees.values(), bins=20, color='r', edgecolor='black')\n",
    "    plt.title(\"Degree Distribution\")\n",
    "    plt.xlabel(\"Degree\")\n",
    "    plt.ylabel(\"Frequency\")\n",
    "    plt.show()\n",
    "\n",
    "    # 4. Identify hubs (airports with degree higher than the 90th percentile)\n",
    "    degree_values = list(degrees.values())\n",
    "    degree_90th_percentile = np.percentile(degree_values, 90)\n",
    "    hubs = [node for node, degree in degrees.items() if degree > degree_90th_percentile]\n",
    "\n",
    "    print(f\"Hubs (airports with degree > 90th percentile): {hubs}\")\n",
    "\n",
    "    # 5. Determine if the graph is sparse or dense\n",
    "    if density < 0.5:\n",
    "        print(\"The graph is sparse.\")\n",
    "    else:\n",
    "        print(\"The graph is dense.\")\n"
   ]
  },
  {
   "cell_type": "code",
   "execution_count": 19,
   "metadata": {},
   "outputs": [
    {
     "name": "stdout",
     "output_type": "stream",
     "text": [
      "Number of airports (nodes): 727\n",
      "Number of flights (edges): 23260\n",
      "Graph density: 0.0881\n"
     ]
    },
    {
     "data": {
      "image/png": "[encoded data removed]",
      "text/plain": [
       "<Figure size 800x600 with 1 Axes>"
      ]
     },
     "metadata": {},
     "output_type": "display_data"
    },
    {
     "name": "stdout",
     "output_type": "stream",
     "text": [
      "Hubs (airports with degree > 90th percentile): ['SEA', 'PDX', 'SFO', 'LAX', 'FLL', 'PHX', 'TUS', 'DFW', 'SLC', 'ABQ', 'LAS', 'ICT', 'OKC', 'SAN', 'OAK', 'IAH', 'ELP', 'TUL', 'OMA', 'AUS', 'COS', 'MSN', 'RFD', 'MKE', 'DSM', 'LIT', 'SHV', 'MCI', 'SAT', 'MSP', 'ORD', 'STL', 'BNA', 'MEM', 'IND', 'LRD', 'CLE', 'DTW', 'DAY', 'CVG', 'CMH', 'FWA', 'HOU', 'TOL', 'PIT', 'BOS', 'ATL', 'MDW', 'PHL', 'GSO', 'BUF', 'EWR', 'CLT', 'JFK', 'GRR', 'YIP', 'LGA', 'LEX', 'BHM', 'MCO', 'IAD', 'MSY', 'RDU', 'GSP', 'BDL', 'CAE', 'BWI', 'TYS', 'HSV', 'MIA', 'TPA', 'DAL', 'JAX']\n",
      "The graph is sparse.\n"
     ]
    }
   ],
   "source": [
    "analyze_graph_features(flight_network)"
   ]
  },
  {
   "cell_type": "markdown",
   "metadata": {},
   "source": [
    "## 1.2 Write a function <strong> summarize_graph_features(flight_network) </strong>"
   ]
  },
  {
   "cell_type": "code",
   "execution_count": 20,
   "metadata": {},
   "outputs": [],
   "source": [
    "def summarize_graph_features(flight_network):\n",
    "    # Summary dictionary to collect data\n",
    "    summary = {}\n",
    "\n",
    "    # 1. Number of nodes and edges\n",
    "    num_nodes = flight_network.number_of_nodes()\n",
    "    num_edges = flight_network.number_of_edges()\n",
    "    summary['Number of nodes'] = num_nodes\n",
    "    summary['Number of edges'] = num_edges\n",
    "\n",
    "    # 2. Graph density\n",
    "    density = (2 * num_edges) / (num_nodes * (num_nodes - 1)) if num_nodes > 1 else 0\n",
    "    summary['Graph density'] = density\n",
    "\n",
    "    # 3. Degree distribution\n",
    "    degrees = dict(flight_network.degree())  # Degree distribution\n",
    "\n",
    "    # Plot histogram for degree distribution\n",
    "    plt.figure(figsize=(8, 6))\n",
    "    plt.hist(degrees.values(), bins=20, color='skyblue', edgecolor='black')\n",
    "    plt.title(\"Degree Distribution\")\n",
    "    plt.xlabel(\"Degree\")\n",
    "    plt.ylabel(\"Frequency\")\n",
    "    plt.show()\n",
    "\n",
    "    # 4. Identify hubs (airports with degree higher than the 90th percentile)\n",
    "    degree_values = list(degrees.values())\n",
    "    degree_90th_percentile = np.percentile(degree_values, 90)\n",
    "    hubs = [(node, degree) for node, degree in degrees.items() if degree > degree_90th_percentile]\n",
    "    hubs_df = pd.DataFrame(hubs, columns=['Airport', 'Degree']).sort_values(by='Degree', ascending=False)\n",
    "\n",
    "    summary['Hubs'] = hubs_df\n",
    "\n",
    "    # Print summary report\n",
    "    print(\"\\n--- Graph Summary Report ---\")\n",
    "    for key, value in summary.items():\n",
    "        if key == 'Hubs':\n",
    "            print(f\"\\n{key}:\")\n",
    "            print(value.to_string(index=False))\n",
    "        else:\n",
    "            print(f\"{key}: {value}\")\n",
    "\n",
    "    return summary\n"
   ]
  },
  {
   "cell_type": "code",
   "execution_count": 21,
   "metadata": {},
   "outputs": [
    {
     "data": {
      "image/png": "[encoded data removed]",
      "text/plain": [
       "<Figure size 800x600 with 1 Axes>"
      ]
     },
     "metadata": {},
     "output_type": "display_data"
    },
    {
     "name": "stdout",
     "output_type": "stream",
     "text": [
      "\n",
      "--- Graph Summary Report ---\n",
      "Number of nodes: 727\n",
      "Number of edges: 23260\n",
      "Graph density: 0.08813911277335061\n",
      "\n",
      "Hubs:\n",
      "Airport  Degree\n",
      "    YIP     378\n",
      "    MSP     323\n",
      "    MCI     319\n",
      "    MEM     317\n",
      "    ATL     308\n",
      "    STL     304\n",
      "    MIA     299\n",
      "    ORD     299\n",
      "    DFW     297\n",
      "    IND     296\n",
      "    OKC     290\n",
      "    PHX     281\n",
      "    SHV     280\n",
      "    IAD     276\n",
      "    DTW     272\n",
      "    SLC     266\n",
      "    LAS     266\n",
      "    MKE     264\n",
      "    IAH     264\n",
      "    BWI     263\n",
      "    LAX     262\n",
      "    CLE     260\n",
      "    ELP     259\n",
      "    JFK     255\n",
      "    TUS     255\n",
      "    LIT     254\n",
      "    EWR     252\n",
      "    BNA     252\n",
      "    CVG     252\n",
      "    MDW     251\n",
      "    PHL     250\n",
      "    PIT     248\n",
      "    RFD     247\n",
      "    CLT     244\n",
      "    LRD     244\n",
      "    BOS     244\n",
      "    SAT     243\n",
      "    ICT     243\n",
      "    MCO     241\n",
      "    DAY     240\n",
      "    RDU     239\n",
      "    CMH     238\n",
      "    SEA     235\n",
      "    DAL     234\n",
      "    MSY     234\n",
      "    TUL     233\n",
      "    SFO     230\n",
      "    TYS     230\n",
      "    OMA     229\n",
      "    FLL     226\n",
      "    BUF     225\n",
      "    ABQ     223\n",
      "    AUS     220\n",
      "    OAK     219\n",
      "    TOL     215\n",
      "    DSM     214\n",
      "    BHM     213\n",
      "    PDX     213\n",
      "    COS     212\n",
      "    CAE     212\n",
      "    LEX     209\n",
      "    SAN     209\n",
      "    GSP     208\n",
      "    TPA     205\n",
      "    FWA     205\n",
      "    BDL     203\n",
      "    HOU     200\n",
      "    GRR     200\n",
      "    MSN     200\n",
      "    LGA     199\n",
      "    GSO     198\n",
      "    JAX     198\n",
      "    HSV     197\n"
     ]
    },
    {
     "data": {
      "text/plain": [
       "{'Number of nodes': 727,\n",
       " 'Number of edges': 23260,\n",
       " 'Graph density': 0.08813911277335061,\n",
       " 'Hubs':    Airport  Degree\n",
       " 55     YIP     378\n",
       " 29     MSP     323\n",
       " 27     MCI     319\n",
       " 33     MEM     317\n",
       " 46     ATL     308\n",
       " ..     ...     ...\n",
       " 21     MSN     200\n",
       " 56     LGA     199\n",
       " 49     GSO     198\n",
       " 72     JAX     198\n",
       " 68     HSV     197\n",
       " \n",
       " [73 rows x 2 columns]}"
      ]
     },
     "execution_count": 21,
     "metadata": {},
     "output_type": "execute_result"
    }
   ],
   "source": [
    "summarize_graph_features(flight_network)"
   ]
  }
 ],
 "metadata": {
  "kernelspec": {
   "display_name": "Python 3",
   "language": "python",
   "name": "python3"
  },
  "language_info": {
   "codemirror_mode": {
    "name": "ipython",
    "version": 3
   },
   "file_extension": ".py",
   "mimetype": "text/x-python",
   "name": "python",
   "nbconvert_exporter": "python",
   "pygments_lexer": "ipython3",
   "version": "3.12.7"
  }
 },
 "nbformat": 4,
 "nbformat_minor": 2
}
