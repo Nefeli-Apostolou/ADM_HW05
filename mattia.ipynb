{
 "cells": [
  {
   "cell_type": "code",
   "execution_count": 18,
   "metadata": {},
   "outputs": [],
   "source": [
    "import pandas as pd\n",
    "import networkx as nx\n",
    "from collections import defaultdict\n",
    "import heapq\n",
    "import functions "
   ]
  },
  {
   "cell_type": "code",
   "execution_count": 31,
   "metadata": {},
   "outputs": [
    {
     "data": {
      "text/plain": [
       "<module 'functions' from 'c:\\\\Users\\\\matti\\\\Documents\\\\ADM\\\\HW5\\\\functions.py'>"
      ]
     },
     "execution_count": 31,
     "metadata": {},
     "output_type": "execute_result"
    }
   ],
   "source": [
    "from importlib import reload\n",
    "reload(functions)"
   ]
  },
  {
   "cell_type": "code",
   "execution_count": 3,
   "metadata": {},
   "outputs": [],
   "source": [
    "df = pd.read_csv(r\"AirportsClean.csv\")"
   ]
  },
  {
   "cell_type": "code",
   "execution_count": null,
   "metadata": {},
   "outputs": [],
   "source": [
    "#Non ci è necessario tutto il dataset di dati, creiamo quindi un dataframe che sara composto solo dalle colonne Origin_airport,Destination_airport,Distance e Count.\n",
    "##Ci rendiamo conto che alle volte per la stessa coppia Origin_airport,Destination_airport sono presenti distanze differenti (probabilmente per errori di rilevazione o a causa di modifiche dei territori nel tempo), \n",
    "##per risolvere sostituiamo il valore della distanza con il valore della distanza piu frequente (la moda) per coppia di Origin_airport,Destination_airport.\n",
    "##Il campo count invece rappresentera il conteggio per ogni coppia.\n",
    "\n",
    "df_util=functions.build_df_for_network(df)\n",
    "df_util.to_csv(\"df_util.csv\")\n",
    "df_util.head()\n",
    "\n",
    "# Costruzione del grafo orientato con pesi\n",
    "flight_network = functions.build_graph(df_util)\n",
    "\n",
    "# Ottengo una lista di tutti gli aereoporti distinti\n",
    "airports = pd.concat([df['Origin_airport'], df['Destination_airport']]).drop_duplicates()"
   ]
  },
  {
   "cell_type": "code",
   "execution_count": null,
   "metadata": {},
   "outputs": [],
   "source": [
    "functions.analyze_centrality(flight_network, \"YIP\")"
   ]
  },
  {
   "cell_type": "code",
   "execution_count": 9,
   "metadata": {},
   "outputs": [
    {
     "data": {
      "text/html": [
       "<div>\n",
       "<style scoped>\n",
       "    .dataframe tbody tr th:only-of-type {\n",
       "        vertical-align: middle;\n",
       "    }\n",
       "\n",
       "    .dataframe tbody tr th {\n",
       "        vertical-align: top;\n",
       "    }\n",
       "\n",
       "    .dataframe thead th {\n",
       "        text-align: right;\n",
       "    }\n",
       "</style>\n",
       "<table border=\"1\" class=\"dataframe\">\n",
       "  <thead>\n",
       "    <tr style=\"text-align: right;\">\n",
       "      <th></th>\n",
       "      <th>Origin_airport</th>\n",
       "      <th>Destination_airport</th>\n",
       "      <th>Distance</th>\n",
       "    </tr>\n",
       "  </thead>\n",
       "  <tbody>\n",
       "    <tr>\n",
       "      <th>0</th>\n",
       "      <td>MHK</td>\n",
       "      <td>AMW</td>\n",
       "      <td>254</td>\n",
       "    </tr>\n",
       "    <tr>\n",
       "      <th>1</th>\n",
       "      <td>EUG</td>\n",
       "      <td>RDM</td>\n",
       "      <td>103</td>\n",
       "    </tr>\n",
       "    <tr>\n",
       "      <th>4</th>\n",
       "      <td>MFR</td>\n",
       "      <td>RDM</td>\n",
       "      <td>156</td>\n",
       "    </tr>\n",
       "    <tr>\n",
       "      <th>9</th>\n",
       "      <td>SEA</td>\n",
       "      <td>RDM</td>\n",
       "      <td>228</td>\n",
       "    </tr>\n",
       "    <tr>\n",
       "      <th>14</th>\n",
       "      <td>PDX</td>\n",
       "      <td>RDM</td>\n",
       "      <td>116</td>\n",
       "    </tr>\n",
       "  </tbody>\n",
       "</table>\n",
       "</div>"
      ],
      "text/plain": [
       "   Origin_airport Destination_airport  Distance\n",
       "0             MHK                 AMW       254\n",
       "1             EUG                 RDM       103\n",
       "4             MFR                 RDM       156\n",
       "9             SEA                 RDM       228\n",
       "14            PDX                 RDM       116"
      ]
     },
     "execution_count": 9,
     "metadata": {},
     "output_type": "execute_result"
    }
   ],
   "source": [
    "df_util.head()"
   ]
  },
  {
   "cell_type": "code",
   "execution_count": 24,
   "metadata": {},
   "outputs": [
    {
     "name": "stdout",
     "output_type": "stream",
     "text": [
      "    Airport  Out_degree  In_degree  Total_degree  Normalized_degree\n",
      "513     1B1           1          1             2           0.001377\n",
      "197     ABE         121        115           236           0.162534\n",
      "145     ABI          62        126           188           0.129477\n",
      "43      ABQ         196        181           377           0.259642\n",
      "74      ABR          26         19            45           0.030992\n",
      "..      ...         ...        ...           ...                ...\n",
      "609     YKN           2          1             3           0.002066\n",
      "204     YNG          92        105           197           0.135675\n",
      "123     YUM          68         67           135           0.092975\n",
      "683     ZXX           0          1             1           0.000689\n",
      "565     ZZV           4          5             9           0.006198\n",
      "\n",
      "[727 rows x 5 columns]\n"
     ]
    }
   ],
   "source": [
    "degree_df = functions.calculate_degree_centrality(flight_network)\n",
    "print(degree_df[['Airport', 'Out_degree', 'In_degree','Total_degree', 'Normalized_degree']].sort_values(by=\"Airport\"))"
   ]
  },
  {
   "cell_type": "code",
   "execution_count": 26,
   "metadata": {},
   "outputs": [
    {
     "name": "stdout",
     "output_type": "stream",
     "text": [
      "    Airport  Betweenness_Centrality\n",
      "456     YIP                0.323335\n",
      "191     WFB                0.307999\n",
      "190     KTN                0.219055\n",
      "192     MTN                0.092484\n",
      "410     ATL                0.079322\n",
      "..      ...                     ...\n",
      "0       AWX                0.000000\n",
      "14      HUA                0.000000\n",
      "13      MIQ                0.000000\n",
      "12      MPS                0.000000\n",
      "11      CHI                0.000000\n",
      "\n",
      "[708 rows x 2 columns]\n"
     ]
    }
   ],
   "source": [
    "## Calcolo della Betweenness Centrality ponderata\n",
    "betweenness_centrality = functions.calculate_betweenness_centrality(flight_network)\n",
    "#\n",
    "## Mostra i risultati\n",
    "betweenness_df = pd.DataFrame(\n",
    "    betweenness_centrality.items(),\n",
    "    columns=['Airport', 'Betweenness_Centrality']\n",
    ")\n",
    "print(betweenness_df.sort_values(by='Betweenness_Centrality', ascending=False, inplace=False))"
   ]
  },
  {
   "cell_type": "code",
   "execution_count": 29,
   "metadata": {},
   "outputs": [
    {
     "name": "stdout",
     "output_type": "stream",
     "text": [
      "    Airport  Closeness_Centrality\n",
      "484     FVS              0.007463\n",
      "128     STL              0.001097\n",
      "134     CMI              0.001096\n",
      "118     DEC              0.001094\n",
      "115     SPI              0.001093\n",
      "..      ...                   ...\n",
      "668     SME              0.000000\n",
      "672     AYS              0.000000\n",
      "669     STK              0.000000\n",
      "676     ARB              0.000000\n",
      "726     PHD              0.000000\n",
      "\n",
      "[727 rows x 2 columns]\n"
     ]
    }
   ],
   "source": [
    "## Calcolo della Closeness Centrality\n",
    "closeness_centrality = functions.calculate_closeness_centrality(flight_network)\n",
    "\n",
    "## Visualizza i risultati\n",
    "closeness_df = pd.DataFrame(closeness_centrality.items(), columns=['Airport', 'Closeness_Centrality'])\n",
    "print(closeness_df.sort_values(by='Closeness_Centrality', ascending=False, inplace=False))"
   ]
  },
  {
   "cell_type": "code",
   "execution_count": 22,
   "metadata": {},
   "outputs": [
    {
     "name": "stdout",
     "output_type": "stream",
     "text": [
      "    Airport  PageRank\n",
      "196     YIP  0.011969\n",
      "99      SHV  0.007199\n",
      "104     MSP  0.007116\n",
      "131     MEM  0.006640\n",
      "100     MCI  0.006623\n",
      "..      ...       ...\n",
      "667     PMH  0.000206\n",
      "719     LXN  0.000206\n",
      "716     MHE  0.000206\n",
      "714     DQC  0.000206\n",
      "680     HCA  0.000206\n",
      "\n",
      "[727 rows x 2 columns]\n"
     ]
    }
   ],
   "source": [
    "pagerank_df = pd.DataFrame(functions.calculate_pagerank(flight_network).items(), columns=['Airport', 'PageRank'])\n",
    "## Visualizza i risultati\n",
    "print(pagerank_df.sort_values(by='PageRank', ascending=False))"
   ]
  },
  {
   "cell_type": "code",
   "execution_count": 32,
   "metadata": {},
   "outputs": [
    {
     "data": {
      "text/plain": [
       "{'Betweenness Centrality': 0.32333452216274433,\n",
       " 'Closeness Centrality': 0.00108300373460128,\n",
       " 'Degree Centrality': 665,\n",
       " 'PageRank': 0.011968947291634198}"
      ]
     },
     "execution_count": 32,
     "metadata": {},
     "output_type": "execute_result"
    }
   ],
   "source": [
    "functions.analyze_centrality(flight_network, \"YIP\")"
   ]
  },
  {
   "cell_type": "markdown",
   "metadata": {},
   "source": [
    "Ask LLM (eg. ChatGPT) to suggest alternative centrality measures that might be relevant to this task. How can you check that the results given by the LLM are trustable?\n"
   ]
  },
  {
   "cell_type": "markdown",
   "metadata": {},
   "source": [
    "La Katz Centrality è una misura di centralità usata per identificare l'importanza di un nodo in una rete, prendendo in considerazione sia il numero di connessioni dirette (ad esempio, i vicini immediati) sia le connessioni indirette (i vicini dei vicini, e così via).\n",
    "\n",
    "Caratteristiche principali\n",
    "- Un nodo è importante non solo se ha molte connessioni, ma anche se è connesso a nodi importanti (simile alla Eigenvector Centrality).\n",
    "- Include un bias: La Katz Centrality aggiunge un termine di bias (detto beta) per garantire che anche nodi con poche connessioni abbiano un punteggio positivo. Questo è utile per grafi disconnessi o reti sparse.\n"
   ]
  },
  {
   "cell_type": "markdown",
   "metadata": {},
   "source": [
    "La **Katz Centrality** di un nodo \\( v \\) è definita come:\n",
    "\n",
    "$$\n",
    "C_k(v) = \\alpha \\sum_{u \\in N(v)} C_k(u) + \\beta\n",
    "$$\n",
    "\n",
    "Dove:\n",
    "- \\( C_k(v) \\): La Katz Centrality del nodo \\( v \\).\n",
    "- \\( N(v) \\): I vicini del nodo \\( v \\) (i nodi direttamente collegati a \\( v \\)).\n",
    "- \\( alpha \\): Un fattore di attenuazione che controlla l'influenza delle connessioni indirette.\n",
    "- \\( beta \\): Un termine di bias per garantire che i nodi senza connessioni abbiano un punteggio positivo."
   ]
  },
  {
   "cell_type": "code",
   "execution_count": 250,
   "metadata": {},
   "outputs": [
    {
     "ename": "PowerIterationFailedConvergence",
     "evalue": "(PowerIterationFailedConvergence(...), 'power iteration failed to converge within 1000 iterations')",
     "output_type": "error",
     "traceback": [
      "\u001b[1;31m---------------------------------------------------------------------------\u001b[0m",
      "\u001b[1;31mPowerIterationFailedConvergence\u001b[0m           Traceback (most recent call last)",
      "Cell \u001b[1;32mIn[250], line 1\u001b[0m\n\u001b[1;32m----> 1\u001b[0m \u001b[43mnx\u001b[49m\u001b[38;5;241;43m.\u001b[39;49m\u001b[43mkatz_centrality\u001b[49m\u001b[43m(\u001b[49m\u001b[43mG\u001b[49m\u001b[43m,\u001b[49m\u001b[43m \u001b[49m\u001b[43malpha\u001b[49m\u001b[38;5;241;43m=\u001b[39;49m\u001b[38;5;241;43m0.01\u001b[39;49m\u001b[43m,\u001b[49m\u001b[43m \u001b[49m\u001b[43mbeta\u001b[49m\u001b[38;5;241;43m=\u001b[39;49m\u001b[38;5;241;43m1.0\u001b[39;49m\u001b[43m,\u001b[49m\u001b[43m \u001b[49m\u001b[43mmax_iter\u001b[49m\u001b[38;5;241;43m=\u001b[39;49m\u001b[38;5;241;43m1000\u001b[39;49m\u001b[43m,\u001b[49m\u001b[43m \u001b[49m\u001b[43mtol\u001b[49m\u001b[38;5;241;43m=\u001b[39;49m\u001b[38;5;241;43m1e-6\u001b[39;49m\u001b[43m,\u001b[49m\u001b[43m \u001b[49m\u001b[43mweight\u001b[49m\u001b[38;5;241;43m=\u001b[39;49m\u001b[38;5;124;43m'\u001b[39;49m\u001b[38;5;124;43mweight\u001b[39;49m\u001b[38;5;124;43m'\u001b[39;49m\u001b[43m)\u001b[49m\n",
      "File \u001b[1;32m<class 'networkx.utils.decorators.argmap'> compilation 49:4\u001b[0m, in \u001b[0;36margmap_katz_centrality_45\u001b[1;34m(G, alpha, beta, max_iter, tol, nstart, normalized, weight, backend, **backend_kwargs)\u001b[0m\n\u001b[0;32m      2\u001b[0m \u001b[38;5;28;01mimport\u001b[39;00m \u001b[38;5;21;01mcollections\u001b[39;00m\n\u001b[0;32m      3\u001b[0m \u001b[38;5;28;01mimport\u001b[39;00m \u001b[38;5;21;01mgzip\u001b[39;00m\n\u001b[1;32m----> 4\u001b[0m \u001b[38;5;28;01mimport\u001b[39;00m \u001b[38;5;21;01minspect\u001b[39;00m\n\u001b[0;32m      5\u001b[0m \u001b[38;5;28;01mimport\u001b[39;00m \u001b[38;5;21;01mitertools\u001b[39;00m\n\u001b[0;32m      6\u001b[0m \u001b[38;5;28;01mimport\u001b[39;00m \u001b[38;5;21;01mre\u001b[39;00m\n",
      "File \u001b[1;32m~\\AppData\\Local\\Packages\\PythonSoftwareFoundation.Python.3.11_qbz5n2kfra8p0\\LocalCache\\local-packages\\Python311\\site-packages\\networkx\\utils\\backends.py:967\u001b[0m, in \u001b[0;36m_dispatchable.__call__\u001b[1;34m(self, backend, *args, **kwargs)\u001b[0m\n\u001b[0;32m    965\u001b[0m     \u001b[38;5;28;01mif\u001b[39;00m backend \u001b[38;5;129;01mis\u001b[39;00m \u001b[38;5;129;01mnot\u001b[39;00m \u001b[38;5;28;01mNone\u001b[39;00m \u001b[38;5;129;01mand\u001b[39;00m backend \u001b[38;5;241m!=\u001b[39m \u001b[38;5;124m\"\u001b[39m\u001b[38;5;124mnetworkx\u001b[39m\u001b[38;5;124m\"\u001b[39m:\n\u001b[0;32m    966\u001b[0m         \u001b[38;5;28;01mraise\u001b[39;00m \u001b[38;5;167;01mImportError\u001b[39;00m(\u001b[38;5;124mf\u001b[39m\u001b[38;5;124m\"\u001b[39m\u001b[38;5;124m'\u001b[39m\u001b[38;5;132;01m{\u001b[39;00mbackend\u001b[38;5;132;01m}\u001b[39;00m\u001b[38;5;124m'\u001b[39m\u001b[38;5;124m backend is not installed\u001b[39m\u001b[38;5;124m\"\u001b[39m)\n\u001b[1;32m--> 967\u001b[0m     \u001b[38;5;28;01mreturn\u001b[39;00m \u001b[38;5;28;43mself\u001b[39;49m\u001b[38;5;241;43m.\u001b[39;49m\u001b[43morig_func\u001b[49m\u001b[43m(\u001b[49m\u001b[38;5;241;43m*\u001b[39;49m\u001b[43margs\u001b[49m\u001b[43m,\u001b[49m\u001b[43m \u001b[49m\u001b[38;5;241;43m*\u001b[39;49m\u001b[38;5;241;43m*\u001b[39;49m\u001b[43mkwargs\u001b[49m\u001b[43m)\u001b[49m\n\u001b[0;32m    969\u001b[0m \u001b[38;5;66;03m# Use `backend_name` in this function instead of `backend`.\u001b[39;00m\n\u001b[0;32m    970\u001b[0m \u001b[38;5;66;03m# This is purely for aesthetics and to make it easier to search for this\u001b[39;00m\n\u001b[0;32m    971\u001b[0m \u001b[38;5;66;03m# variable since \"backend\" is used in many comments and log/error messages.\u001b[39;00m\n\u001b[0;32m    972\u001b[0m backend_name \u001b[38;5;241m=\u001b[39m backend\n",
      "File \u001b[1;32m~\\AppData\\Local\\Packages\\PythonSoftwareFoundation.Python.3.11_qbz5n2kfra8p0\\LocalCache\\local-packages\\Python311\\site-packages\\networkx\\algorithms\\centrality\\katz.py:194\u001b[0m, in \u001b[0;36mkatz_centrality\u001b[1;34m(G, alpha, beta, max_iter, tol, nstart, normalized, weight)\u001b[0m\n\u001b[0;32m    192\u001b[0m             x[n] \u001b[38;5;241m*\u001b[39m\u001b[38;5;241m=\u001b[39m s\n\u001b[0;32m    193\u001b[0m         \u001b[38;5;28;01mreturn\u001b[39;00m x\n\u001b[1;32m--> 194\u001b[0m \u001b[38;5;28;01mraise\u001b[39;00m nx\u001b[38;5;241m.\u001b[39mPowerIterationFailedConvergence(max_iter)\n",
      "\u001b[1;31mPowerIterationFailedConvergence\u001b[0m: (PowerIterationFailedConvergence(...), 'power iteration failed to converge within 1000 iterations')"
     ]
    }
   ],
   "source": [
    "nx.katz_centrality(G, alpha=0.01, beta=1.0, max_iter=1000, tol=1e-6, weight='weight')"
   ]
  }
 ],
 "metadata": {
  "kernelspec": {
   "display_name": "Python 3",
   "language": "python",
   "name": "python3"
  },
  "language_info": {
   "codemirror_mode": {
    "name": "ipython",
    "version": 3
   },
   "file_extension": ".py",
   "mimetype": "text/x-python",
   "name": "python",
   "nbconvert_exporter": "python",
   "pygments_lexer": "ipython3",
   "version": "3.11.9"
  }
 },
 "nbformat": 4,
 "nbformat_minor": 2
}
